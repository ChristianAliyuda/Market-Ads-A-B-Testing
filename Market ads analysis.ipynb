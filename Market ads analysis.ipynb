{
 "cells": [
  {
   "cell_type": "markdown",
   "id": "10dc6049-acc7-4d03-b734-03ec47d6fe7e",
   "metadata": {},
   "source": [
    "### Marketing A/B Testing"
   ]
  },
  {
   "cell_type": "markdown",
   "id": "9e1326c9-33b8-4329-8b6b-49ca685e8a7a",
   "metadata": {},
   "source": [
    "- Would the campaign be successful?\n",
    "- \n",
    "If the campaign was successful, how much of that success could be attributed to the ads?"
   ]
  },
  {
   "cell_type": "markdown",
   "id": "93450863-b301-4c87-b895-e7a2c29ace6c",
   "metadata": {},
   "source": [
    "\"Converted\" variable evaluating to either True or False is used to determine whether a campaign is successful or not, this makes it the target variable"
   ]
  },
  {
   "cell_type": "code",
   "execution_count": 2,
   "id": "d1cb32fa-bcda-4be1-8058-4c88f74fd671",
   "metadata": {},
   "outputs": [],
   "source": [
    "import numpy as np\n",
    "import pandas as pd \n",
    "import matplotlib.pyplot as plt\n",
    "import seaborn as sns\n",
    "\n",
    "import warnings\n",
    "warnings.filterwarnings(\"ignore\")"
   ]
  },
  {
   "cell_type": "code",
   "execution_count": 4,
   "id": "f98dfb84-c851-4bf7-a68a-19ba71447172",
   "metadata": {},
   "outputs": [],
   "source": [
    "# Read dataset\n",
    "df = pd.read_csv(r\"C:\\Users\\hp\\Downloads\\archive (11)\\marketing_AB.csv\")"
   ]
  },
  {
   "cell_type": "code",
   "execution_count": 5,
   "id": "e736c50a-a294-44cc-b54a-f906d96ffbcd",
   "metadata": {},
   "outputs": [
    {
     "data": {
      "text/html": [
       "<div>\n",
       "<style scoped>\n",
       "    .dataframe tbody tr th:only-of-type {\n",
       "        vertical-align: middle;\n",
       "    }\n",
       "\n",
       "    .dataframe tbody tr th {\n",
       "        vertical-align: top;\n",
       "    }\n",
       "\n",
       "    .dataframe thead th {\n",
       "        text-align: right;\n",
       "    }\n",
       "</style>\n",
       "<table border=\"1\" class=\"dataframe\">\n",
       "  <thead>\n",
       "    <tr style=\"text-align: right;\">\n",
       "      <th></th>\n",
       "      <th>Unnamed: 0</th>\n",
       "      <th>user id</th>\n",
       "      <th>test group</th>\n",
       "      <th>converted</th>\n",
       "      <th>total ads</th>\n",
       "      <th>most ads day</th>\n",
       "      <th>most ads hour</th>\n",
       "    </tr>\n",
       "  </thead>\n",
       "  <tbody>\n",
       "    <tr>\n",
       "      <th>0</th>\n",
       "      <td>0</td>\n",
       "      <td>1069124</td>\n",
       "      <td>ad</td>\n",
       "      <td>False</td>\n",
       "      <td>130</td>\n",
       "      <td>Monday</td>\n",
       "      <td>20</td>\n",
       "    </tr>\n",
       "    <tr>\n",
       "      <th>1</th>\n",
       "      <td>1</td>\n",
       "      <td>1119715</td>\n",
       "      <td>ad</td>\n",
       "      <td>False</td>\n",
       "      <td>93</td>\n",
       "      <td>Tuesday</td>\n",
       "      <td>22</td>\n",
       "    </tr>\n",
       "    <tr>\n",
       "      <th>2</th>\n",
       "      <td>2</td>\n",
       "      <td>1144181</td>\n",
       "      <td>ad</td>\n",
       "      <td>False</td>\n",
       "      <td>21</td>\n",
       "      <td>Tuesday</td>\n",
       "      <td>18</td>\n",
       "    </tr>\n",
       "    <tr>\n",
       "      <th>3</th>\n",
       "      <td>3</td>\n",
       "      <td>1435133</td>\n",
       "      <td>ad</td>\n",
       "      <td>False</td>\n",
       "      <td>355</td>\n",
       "      <td>Tuesday</td>\n",
       "      <td>10</td>\n",
       "    </tr>\n",
       "    <tr>\n",
       "      <th>4</th>\n",
       "      <td>4</td>\n",
       "      <td>1015700</td>\n",
       "      <td>ad</td>\n",
       "      <td>False</td>\n",
       "      <td>276</td>\n",
       "      <td>Friday</td>\n",
       "      <td>14</td>\n",
       "    </tr>\n",
       "  </tbody>\n",
       "</table>\n",
       "</div>"
      ],
      "text/plain": [
       "   Unnamed: 0  user id test group  converted  total ads most ads day  \\\n",
       "0           0  1069124         ad      False        130       Monday   \n",
       "1           1  1119715         ad      False         93      Tuesday   \n",
       "2           2  1144181         ad      False         21      Tuesday   \n",
       "3           3  1435133         ad      False        355      Tuesday   \n",
       "4           4  1015700         ad      False        276       Friday   \n",
       "\n",
       "   most ads hour  \n",
       "0             20  \n",
       "1             22  \n",
       "2             18  \n",
       "3             10  \n",
       "4             14  "
      ]
     },
     "execution_count": 5,
     "metadata": {},
     "output_type": "execute_result"
    }
   ],
   "source": [
    "# show top 5 row\n",
    "df.head()"
   ]
  },
  {
   "cell_type": "markdown",
   "id": "76d8d2ef-5a07-40a6-9cdf-f01b63fcbb29",
   "metadata": {},
   "source": [
    "#### Data Cleaning"
   ]
  },
  {
   "cell_type": "code",
   "execution_count": 7,
   "id": "30d1fc40-5075-4045-b3b6-fe996d43a839",
   "metadata": {},
   "outputs": [
    {
     "data": {
      "text/plain": [
       "0"
      ]
     },
     "execution_count": 7,
     "metadata": {},
     "output_type": "execute_result"
    }
   ],
   "source": [
    "# Check for duplicates using user_id\n",
    "df.duplicated(subset = \"user id\").sum()"
   ]
  },
  {
   "cell_type": "code",
   "execution_count": 9,
   "id": "c13bd1ce-84b7-4b1c-81d1-328ec30ee5ae",
   "metadata": {},
   "outputs": [],
   "source": [
    "# Drop unnamed column\n",
    "df.drop(['Unnamed: 0', 'user id'], axis = 1, inplace = True)"
   ]
  },
  {
   "cell_type": "code",
   "execution_count": 10,
   "id": "7e087e3a-66c7-4b3b-b344-1dd2a5c7973e",
   "metadata": {},
   "outputs": [
    {
     "data": {
      "text/html": [
       "<div>\n",
       "<style scoped>\n",
       "    .dataframe tbody tr th:only-of-type {\n",
       "        vertical-align: middle;\n",
       "    }\n",
       "\n",
       "    .dataframe tbody tr th {\n",
       "        vertical-align: top;\n",
       "    }\n",
       "\n",
       "    .dataframe thead th {\n",
       "        text-align: right;\n",
       "    }\n",
       "</style>\n",
       "<table border=\"1\" class=\"dataframe\">\n",
       "  <thead>\n",
       "    <tr style=\"text-align: right;\">\n",
       "      <th></th>\n",
       "      <th>test group</th>\n",
       "      <th>converted</th>\n",
       "      <th>total ads</th>\n",
       "      <th>most ads day</th>\n",
       "      <th>most ads hour</th>\n",
       "    </tr>\n",
       "  </thead>\n",
       "  <tbody>\n",
       "    <tr>\n",
       "      <th>0</th>\n",
       "      <td>ad</td>\n",
       "      <td>False</td>\n",
       "      <td>130</td>\n",
       "      <td>Monday</td>\n",
       "      <td>20</td>\n",
       "    </tr>\n",
       "  </tbody>\n",
       "</table>\n",
       "</div>"
      ],
      "text/plain": [
       "  test group  converted  total ads most ads day  most ads hour\n",
       "0         ad      False        130       Monday             20"
      ]
     },
     "execution_count": 10,
     "metadata": {},
     "output_type": "execute_result"
    }
   ],
   "source": [
    "df.head(1)"
   ]
  },
  {
   "cell_type": "code",
   "execution_count": 12,
   "id": "7361c8e4-2549-491e-8288-8d2847179fa0",
   "metadata": {},
   "outputs": [
    {
     "data": {
      "text/plain": [
       "test group        2\n",
       "converted         2\n",
       "most ads day      7\n",
       "most ads hour    24\n",
       "dtype: int64"
      ]
     },
     "execution_count": 12,
     "metadata": {},
     "output_type": "execute_result"
    }
   ],
   "source": [
    "# Check cardinality for categorical variable\n",
    "df_cate = df[['test group', 'converted', 'most ads day', 'most ads hour']]\n",
    "df_cate.nunique()"
   ]
  },
  {
   "cell_type": "code",
   "execution_count": 14,
   "id": "c2aed1d2-e1df-4a0c-a1ff-5d86c468c070",
   "metadata": {},
   "outputs": [
    {
     "name": "stdout",
     "output_type": "stream",
     "text": [
      "test group : ['ad' 'psa']\n",
      "converted : [False  True]\n",
      "most ads day : ['Monday' 'Tuesday' 'Friday' 'Saturday' 'Wednesday' 'Sunday' 'Thursday']\n",
      "most ads hour : [20 22 18 10 14 13 19 11 12 16 21  3 23  4  8  0  2 15  1  6 17  7  9  5]\n"
     ]
    }
   ],
   "source": [
    "# show the unique categories for each categorical variable \n",
    "for i in df_cate:\n",
    "    print(i, \":\", df_cate[i].unique())"
   ]
  },
  {
   "cell_type": "markdown",
   "id": "4a66101f-ad1d-4aee-bacf-7954e189551b",
   "metadata": {},
   "source": [
    "#### Exploratory Data Analysis"
   ]
  },
  {
   "cell_type": "code",
   "execution_count": 17,
   "id": "6f178eae-fe15-4892-8fea-b8de588b7597",
   "metadata": {},
   "outputs": [
    {
     "data": {
      "image/png": "[encoded data removed]",
      "text/plain": [
       "<Figure size 600x400 with 1 Axes>"
      ]
     },
     "metadata": {},
     "output_type": "display_data"
    }
   ],
   "source": [
    "plt.figure(figsize = (6,4))\n",
    "counts = df_cate['test group'].value_counts()\n",
    "plt.pie(counts, labels = counts.index, autopct = '%0.2f%%')\n",
    "plt.title('Distribution of Test Groups')\n",
    "plt.show()"
   ]
  },
  {
   "cell_type": "code",
   "execution_count": 18,
   "id": "f84eb387-3e6c-4a32-8e9c-79c526fe914e",
   "metadata": {},
   "outputs": [
    {
     "data": {
      "image/png": "[encoded data removed]",
      "text/plain": [
       "<Figure size 600x400 with 1 Axes>"
      ]
     },
     "metadata": {},
     "output_type": "display_data"
    }
   ],
   "source": [
    "plt.figure(figsize = (6,4))\n",
    "counts = df_cate['converted'].value_counts()\n",
    "plt.pie(counts, labels = counts.index, autopct = '%0.2f%%')\n",
    "plt.title('Distribution of Converted ')\n",
    "plt.show()"
   ]
  },
  {
   "cell_type": "code",
   "execution_count": 26,
   "id": "46ffd98f-8985-48c0-a005-381d20eeb514",
   "metadata": {},
   "outputs": [
    {
     "name": "stdout",
     "output_type": "stream",
     "text": [
      "       test group  converted  total ads most ads day  most ads hour\n",
      "18            psa      False        248     Saturday             19\n",
      "38            psa      False         27     Thursday              8\n",
      "68            psa      False         13      Tuesday             19\n",
      "140           psa      False         32    Wednesday             19\n",
      "157           psa      False        105      Tuesday             19\n",
      "...           ...        ...        ...          ...            ...\n",
      "588052        psa      False         16      Tuesday             22\n",
      "588063        psa      False          3      Tuesday             22\n",
      "588066        psa      False          1      Tuesday             22\n",
      "588069        psa      False          6      Tuesday             22\n",
      "588081        psa      False         16      Tuesday             23\n",
      "\n",
      "[23524 rows x 5 columns]\n",
      "[False  True]\n",
      "       test group  converted  total ads most ads day  most ads hour\n",
      "957           psa       True         88       Sunday             19\n",
      "2531          psa       True          7      Tuesday             20\n",
      "2744          psa       True         77       Monday             13\n",
      "2751          psa       True        111       Monday             12\n",
      "2979          psa       True        364       Friday             21\n",
      "...           ...        ...        ...          ...            ...\n",
      "569821        psa       True         13       Friday             19\n",
      "577022        psa       True          7       Sunday             13\n",
      "578515        psa       True          2       Sunday             19\n",
      "586818        psa       True         11      Tuesday             15\n",
      "586990        psa       True          8      Tuesday             16\n",
      "\n",
      "[420 rows x 5 columns]\n"
     ]
    }
   ],
   "source": [
    "# Check converted for test group is psa \n",
    "filtered_df = df[df['test group'] == 'psa']\n",
    "print(filtered_df)\n",
    "print(filtered_df['converted'].unique())\n",
    "print(filtered_df[filtered_df['converted']== True])"
   ]
  },
  {
   "cell_type": "markdown",
   "id": "1a0f5c27-226b-406d-a462-928fe91d5c0a",
   "metadata": {},
   "source": [
    "This means that there psa groups (420 rows) that are converted "
   ]
  },
  {
   "cell_type": "code",
   "execution_count": 32,
   "id": "8de806ec-f78d-4b93-b01d-771b19160cc5",
   "metadata": {},
   "outputs": [
    {
     "data": {
      "image/png": "[encoded data removed]",
      "text/plain": [
       "<Figure size 600x400 with 1 Axes>"
      ]
     },
     "metadata": {},
     "output_type": "display_data"
    }
   ],
   "source": [
    "plt.figure(figsize = (6,4))\n",
    "counts = df_cate['most ads day'].value_counts().index\n",
    "sns.countplot(x = 'most ads day', data = df_cate, order = counts)\n",
    "plt.xticks(rotation = 45)\n",
    "plt.title('Distribution of Ad Days')\n",
    "plt.show()"
   ]
  },
  {
   "cell_type": "code",
   "execution_count": 33,
   "id": "9f162f56-0b76-4d34-8f78-cf800b5d8ffd",
   "metadata": {},
   "outputs": [
    {
     "data": {
      "image/png": "[encoded data removed]",
      "text/plain": [
       "<Figure size 600x400 with 1 Axes>"
      ]
     },
     "metadata": {},
     "output_type": "display_data"
    }
   ],
   "source": [
    "plt.figure(figsize = (6,4))\n",
    "counts = df_cate['most ads hour'].value_counts().index\n",
    "sns.countplot(x = 'most ads hour', data = df_cate, order = counts)\n",
    "plt.xticks(rotation = 45)\n",
    "plt.title('Distribution of Ad Hours')\n",
    "plt.show()"
   ]
  },
  {
   "cell_type": "code",
   "execution_count": 50,
   "id": "13369aa4-0645-4791-8dcf-e9971266e5be",
   "metadata": {},
   "outputs": [
    {
     "data": {
      "image/png": "[encoded data removed]",
      "text/plain": [
       "<Figure size 600x400 with 1 Axes>"
      ]
     },
     "metadata": {},
     "output_type": "display_data"
    }
   ],
   "source": [
    "plt.figure(figsize = (6,4))\n",
    "plt.hist(x = 'total ads', data = df, bins = 20)\n",
    "#plt.xticks(np.arange(0, 500, 100))\n",
    "plt.title('Distribution of Total Ads')\n",
    "plt.show()"
   ]
  },
  {
   "cell_type": "code",
   "execution_count": 40,
   "id": "3783b9f4-1ec7-417b-9736-a46d99a87323",
   "metadata": {},
   "outputs": [
    {
     "data": {
      "text/plain": [
       "\u001b[1;31mSignature:\u001b[0m\n",
       "\u001b[0mplt\u001b[0m\u001b[1;33m.\u001b[0m\u001b[0mhist\u001b[0m\u001b[1;33m(\u001b[0m\u001b[1;33m\n",
       "\u001b[0m    \u001b[0mx\u001b[0m\u001b[1;33m:\u001b[0m \u001b[1;34m'ArrayLike | Sequence[ArrayLike]'\u001b[0m\u001b[1;33m,\u001b[0m\u001b[1;33m\n",
       "\u001b[0m    \u001b[0mbins\u001b[0m\u001b[1;33m:\u001b[0m \u001b[1;34m'int | Sequence[float] | str | None'\u001b[0m \u001b[1;33m=\u001b[0m \u001b[1;32mNone\u001b[0m\u001b[1;33m,\u001b[0m\u001b[1;33m\n",
       "\u001b[0m    \u001b[0mrange\u001b[0m\u001b[1;33m:\u001b[0m \u001b[1;34m'tuple[float, float] | None'\u001b[0m \u001b[1;33m=\u001b[0m \u001b[1;32mNone\u001b[0m\u001b[1;33m,\u001b[0m\u001b[1;33m\n",
       "\u001b[0m    \u001b[0mdensity\u001b[0m\u001b[1;33m:\u001b[0m \u001b[1;34m'bool'\u001b[0m \u001b[1;33m=\u001b[0m \u001b[1;32mFalse\u001b[0m\u001b[1;33m,\u001b[0m\u001b[1;33m\n",
       "\u001b[0m    \u001b[0mweights\u001b[0m\u001b[1;33m:\u001b[0m \u001b[1;34m'ArrayLike | None'\u001b[0m \u001b[1;33m=\u001b[0m \u001b[1;32mNone\u001b[0m\u001b[1;33m,\u001b[0m\u001b[1;33m\n",
       "\u001b[0m    \u001b[0mcumulative\u001b[0m\u001b[1;33m:\u001b[0m \u001b[1;34m'bool | float'\u001b[0m \u001b[1;33m=\u001b[0m \u001b[1;32mFalse\u001b[0m\u001b[1;33m,\u001b[0m\u001b[1;33m\n",
       "\u001b[0m    \u001b[0mbottom\u001b[0m\u001b[1;33m:\u001b[0m \u001b[1;34m'ArrayLike | float | None'\u001b[0m \u001b[1;33m=\u001b[0m \u001b[1;32mNone\u001b[0m\u001b[1;33m,\u001b[0m\u001b[1;33m\n",
       "\u001b[0m    \u001b[0mhisttype\u001b[0m\u001b[1;33m:\u001b[0m \u001b[1;34m\"Literal['bar', 'barstacked', 'step', 'stepfilled']\"\u001b[0m \u001b[1;33m=\u001b[0m \u001b[1;34m'bar'\u001b[0m\u001b[1;33m,\u001b[0m\u001b[1;33m\n",
       "\u001b[0m    \u001b[0malign\u001b[0m\u001b[1;33m:\u001b[0m \u001b[1;34m\"Literal['left', 'mid', 'right']\"\u001b[0m \u001b[1;33m=\u001b[0m \u001b[1;34m'mid'\u001b[0m\u001b[1;33m,\u001b[0m\u001b[1;33m\n",
       "\u001b[0m    \u001b[0morientation\u001b[0m\u001b[1;33m:\u001b[0m \u001b[1;34m\"Literal['vertical', 'horizontal']\"\u001b[0m \u001b[1;33m=\u001b[0m \u001b[1;34m'vertical'\u001b[0m\u001b[1;33m,\u001b[0m\u001b[1;33m\n",
       "\u001b[0m    \u001b[0mrwidth\u001b[0m\u001b[1;33m:\u001b[0m \u001b[1;34m'float | None'\u001b[0m \u001b[1;33m=\u001b[0m \u001b[1;32mNone\u001b[0m\u001b[1;33m,\u001b[0m\u001b[1;33m\n",
       "\u001b[0m    \u001b[0mlog\u001b[0m\u001b[1;33m:\u001b[0m \u001b[1;34m'bool'\u001b[0m \u001b[1;33m=\u001b[0m \u001b[1;32mFalse\u001b[0m\u001b[1;33m,\u001b[0m\u001b[1;33m\n",
       "\u001b[0m    \u001b[0mcolor\u001b[0m\u001b[1;33m:\u001b[0m \u001b[1;34m'ColorType | Sequence[ColorType] | None'\u001b[0m \u001b[1;33m=\u001b[0m \u001b[1;32mNone\u001b[0m\u001b[1;33m,\u001b[0m\u001b[1;33m\n",
       "\u001b[0m    \u001b[0mlabel\u001b[0m\u001b[1;33m:\u001b[0m \u001b[1;34m'str | Sequence[str] | None'\u001b[0m \u001b[1;33m=\u001b[0m \u001b[1;32mNone\u001b[0m\u001b[1;33m,\u001b[0m\u001b[1;33m\n",
       "\u001b[0m    \u001b[0mstacked\u001b[0m\u001b[1;33m:\u001b[0m \u001b[1;34m'bool'\u001b[0m \u001b[1;33m=\u001b[0m \u001b[1;32mFalse\u001b[0m\u001b[1;33m,\u001b[0m\u001b[1;33m\n",
       "\u001b[0m    \u001b[1;33m*\u001b[0m\u001b[1;33m,\u001b[0m\u001b[1;33m\n",
       "\u001b[0m    \u001b[0mdata\u001b[0m\u001b[1;33m=\u001b[0m\u001b[1;32mNone\u001b[0m\u001b[1;33m,\u001b[0m\u001b[1;33m\n",
       "\u001b[0m    \u001b[1;33m**\u001b[0m\u001b[0mkwargs\u001b[0m\u001b[1;33m,\u001b[0m\u001b[1;33m\n",
       "\u001b[0m\u001b[1;33m)\u001b[0m \u001b[1;33m->\u001b[0m \u001b[1;34m'tuple[np.ndarray | list[np.ndarray], np.ndarray, BarContainer | Polygon | list[BarContainer | Polygon]]'\u001b[0m\u001b[1;33m\u001b[0m\u001b[1;33m\u001b[0m\u001b[0m\n",
       "\u001b[1;31mDocstring:\u001b[0m\n",
       "Compute and plot a histogram.\n",
       "\n",
       "This method uses `numpy.histogram` to bin the data in *x* and count the\n",
       "number of values in each bin, then draws the distribution either as a\n",
       "`.BarContainer` or `.Polygon`. The *bins*, *range*, *density*, and\n",
       "*weights* parameters are forwarded to `numpy.histogram`.\n",
       "\n",
       "If the data has already been binned and counted, use `~.bar` or\n",
       "`~.stairs` to plot the distribution::\n",
       "\n",
       "    counts, bins = np.histogram(x)\n",
       "    plt.stairs(counts, bins)\n",
       "\n",
       "Alternatively, plot pre-computed bins and counts using ``hist()`` by\n",
       "treating each bin as a single point with a weight equal to its count::\n",
       "\n",
       "    plt.hist(bins[:-1], bins, weights=counts)\n",
       "\n",
       "The data input *x* can be a singular array, a list of datasets of\n",
       "potentially different lengths ([*x0*, *x1*, ...]), or a 2D ndarray in\n",
       "which each column is a dataset. Note that the ndarray form is\n",
       "transposed relative to the list form. If the input is an array, then\n",
       "the return value is a tuple (*n*, *bins*, *patches*); if the input is a\n",
       "sequence of arrays, then the return value is a tuple\n",
       "([*n0*, *n1*, ...], *bins*, [*patches0*, *patches1*, ...]).\n",
       "\n",
       "Masked arrays are not supported.\n",
       "\n",
       "Parameters\n",
       "----------\n",
       "x : (n,) array or sequence of (n,) arrays\n",
       "    Input values, this takes either a single array or a sequence of\n",
       "    arrays which are not required to be of the same length.\n",
       "\n",
       "bins : int or sequence or str, default: :rc:`hist.bins`\n",
       "    If *bins* is an integer, it defines the number of equal-width bins\n",
       "    in the range.\n",
       "\n",
       "    If *bins* is a sequence, it defines the bin edges, including the\n",
       "    left edge of the first bin and the right edge of the last bin;\n",
       "    in this case, bins may be unequally spaced.  All but the last\n",
       "    (righthand-most) bin is half-open.  In other words, if *bins* is::\n",
       "\n",
       "        [1, 2, 3, 4]\n",
       "\n",
       "    then the first bin is ``[1, 2)`` (including 1, but excluding 2) and\n",
       "    the second ``[2, 3)``.  The last bin, however, is ``[3, 4]``, which\n",
       "    *includes* 4.\n",
       "\n",
       "    If *bins* is a string, it is one of the binning strategies\n",
       "    supported by `numpy.histogram_bin_edges`: 'auto', 'fd', 'doane',\n",
       "    'scott', 'stone', 'rice', 'sturges', or 'sqrt'.\n",
       "\n",
       "range : tuple or None, default: None\n",
       "    The lower and upper range of the bins. Lower and upper outliers\n",
       "    are ignored. If not provided, *range* is ``(x.min(), x.max())``.\n",
       "    Range has no effect if *bins* is a sequence.\n",
       "\n",
       "    If *bins* is a sequence or *range* is specified, autoscaling\n",
       "    is based on the specified bin range instead of the\n",
       "    range of x.\n",
       "\n",
       "density : bool, default: False\n",
       "    If ``True``, draw and return a probability density: each bin\n",
       "    will display the bin's raw count divided by the total number of\n",
       "    counts *and the bin width*\n",
       "    (``density = counts / (sum(counts) * np.diff(bins))``),\n",
       "    so that the area under the histogram integrates to 1\n",
       "    (``np.sum(density * np.diff(bins)) == 1``).\n",
       "\n",
       "    If *stacked* is also ``True``, the sum of the histograms is\n",
       "    normalized to 1.\n",
       "\n",
       "weights : (n,) array-like or None, default: None\n",
       "    An array of weights, of the same shape as *x*.  Each value in\n",
       "    *x* only contributes its associated weight towards the bin count\n",
       "    (instead of 1).  If *density* is ``True``, the weights are\n",
       "    normalized, so that the integral of the density over the range\n",
       "    remains 1.\n",
       "\n",
       "cumulative : bool or -1, default: False\n",
       "    If ``True``, then a histogram is computed where each bin gives the\n",
       "    counts in that bin plus all bins for smaller values. The last bin\n",
       "    gives the total number of datapoints.\n",
       "\n",
       "    If *density* is also ``True`` then the histogram is normalized such\n",
       "    that the last bin equals 1.\n",
       "\n",
       "    If *cumulative* is a number less than 0 (e.g., -1), the direction\n",
       "    of accumulation is reversed.  In this case, if *density* is also\n",
       "    ``True``, then the histogram is normalized such that the first bin\n",
       "    equals 1.\n",
       "\n",
       "bottom : array-like, scalar, or None, default: None\n",
       "    Location of the bottom of each bin, i.e. bins are drawn from\n",
       "    ``bottom`` to ``bottom + hist(x, bins)`` If a scalar, the bottom\n",
       "    of each bin is shifted by the same amount. If an array, each bin\n",
       "    is shifted independently and the length of bottom must match the\n",
       "    number of bins. If None, defaults to 0.\n",
       "\n",
       "histtype : {'bar', 'barstacked', 'step', 'stepfilled'}, default: 'bar'\n",
       "    The type of histogram to draw.\n",
       "\n",
       "    - 'bar' is a traditional bar-type histogram.  If multiple data\n",
       "      are given the bars are arranged side by side.\n",
       "    - 'barstacked' is a bar-type histogram where multiple\n",
       "      data are stacked on top of each other.\n",
       "    - 'step' generates a lineplot that is by default unfilled.\n",
       "    - 'stepfilled' generates a lineplot that is by default filled.\n",
       "\n",
       "align : {'left', 'mid', 'right'}, default: 'mid'\n",
       "    The horizontal alignment of the histogram bars.\n",
       "\n",
       "    - 'left': bars are centered on the left bin edges.\n",
       "    - 'mid': bars are centered between the bin edges.\n",
       "    - 'right': bars are centered on the right bin edges.\n",
       "\n",
       "orientation : {'vertical', 'horizontal'}, default: 'vertical'\n",
       "    If 'horizontal', `~.Axes.barh` will be used for bar-type histograms\n",
       "    and the *bottom* kwarg will be the left edges.\n",
       "\n",
       "rwidth : float or None, default: None\n",
       "    The relative width of the bars as a fraction of the bin width.  If\n",
       "    ``None``, automatically compute the width.\n",
       "\n",
       "    Ignored if *histtype* is 'step' or 'stepfilled'.\n",
       "\n",
       "log : bool, default: False\n",
       "    If ``True``, the histogram axis will be set to a log scale.\n",
       "\n",
       "color : color or array-like of colors or None, default: None\n",
       "    Color or sequence of colors, one per dataset.  Default (``None``)\n",
       "    uses the standard line color sequence.\n",
       "\n",
       "label : str or None, default: None\n",
       "    String, or sequence of strings to match multiple datasets.  Bar\n",
       "    charts yield multiple patches per dataset, but only the first gets\n",
       "    the label, so that `~.Axes.legend` will work as expected.\n",
       "\n",
       "stacked : bool, default: False\n",
       "    If ``True``, multiple data are stacked on top of each other If\n",
       "    ``False`` multiple data are arranged side by side if histtype is\n",
       "    'bar' or on top of each other if histtype is 'step'\n",
       "\n",
       "Returns\n",
       "-------\n",
       "n : array or list of arrays\n",
       "    The values of the histogram bins. See *density* and *weights* for a\n",
       "    description of the possible semantics.  If input *x* is an array,\n",
       "    then this is an array of length *nbins*. If input is a sequence of\n",
       "    arrays ``[data1, data2, ...]``, then this is a list of arrays with\n",
       "    the values of the histograms for each of the arrays in the same\n",
       "    order.  The dtype of the array *n* (or of its element arrays) will\n",
       "    always be float even if no weighting or normalization is used.\n",
       "\n",
       "bins : array\n",
       "    The edges of the bins. Length nbins + 1 (nbins left edges and right\n",
       "    edge of last bin).  Always a single array even when multiple data\n",
       "    sets are passed in.\n",
       "\n",
       "patches : `.BarContainer` or list of a single `.Polygon` or list of such objects\n",
       "    Container of individual artists used to create the histogram\n",
       "    or list of such containers if there are multiple input datasets.\n",
       "\n",
       "Other Parameters\n",
       "----------------\n",
       "data : indexable object, optional\n",
       "    If given, the following parameters also accept a string ``s``, which is\n",
       "    interpreted as ``data[s]`` (unless this raises an exception):\n",
       "\n",
       "    *x*, *weights*\n",
       "\n",
       "**kwargs\n",
       "    `~matplotlib.patches.Patch` properties\n",
       "\n",
       "See Also\n",
       "--------\n",
       "hist2d : 2D histogram with rectangular bins\n",
       "hexbin : 2D histogram with hexagonal bins\n",
       "stairs : Plot a pre-computed histogram\n",
       "bar : Plot a pre-computed histogram\n",
       "\n",
       "Notes\n",
       "-----\n",
       "For large numbers of bins (>1000), plotting can be significantly\n",
       "accelerated by using `~.Axes.stairs` to plot a pre-computed histogram\n",
       "(``plt.stairs(*np.histogram(data))``), or by setting *histtype* to\n",
       "'step' or 'stepfilled' rather than 'bar' or 'barstacked'.\n",
       "\u001b[1;31mFile:\u001b[0m      c:\\users\\hp\\documents\\anaconda 4\\lib\\site-packages\\matplotlib\\pyplot.py\n",
       "\u001b[1;31mType:\u001b[0m      function"
      ]
     },
     "metadata": {},
     "output_type": "display_data"
    }
   ],
   "source": [
    "?plt.hist # to check function argument. "
   ]
  },
  {
   "cell_type": "code",
   "execution_count": 51,
   "id": "907574b6-bbf5-4f1a-9b98-af5a8a94f62f",
   "metadata": {},
   "outputs": [
    {
     "data": {
      "text/plain": [
       "count    588101.000000\n",
       "mean         24.820876\n",
       "std          43.715181\n",
       "min           1.000000\n",
       "25%           4.000000\n",
       "50%          13.000000\n",
       "75%          27.000000\n",
       "max        2065.000000\n",
       "Name: total ads, dtype: float64"
      ]
     },
     "execution_count": 51,
     "metadata": {},
     "output_type": "execute_result"
    }
   ],
   "source": [
    "# check descriptive stats for total ads\n",
    "df['total ads'].describe()"
   ]
  },
  {
   "cell_type": "code",
   "execution_count": 52,
   "id": "95c47db2-5bc9-4d20-a405-d285f50d0497",
   "metadata": {},
   "outputs": [
    {
     "data": {
      "text/plain": [
       "\u001b[1;31mSignature:\u001b[0m\n",
       "\u001b[0mpd\u001b[0m\u001b[1;33m.\u001b[0m\u001b[0mcrosstab\u001b[0m\u001b[1;33m(\u001b[0m\u001b[1;33m\n",
       "\u001b[0m    \u001b[0mindex\u001b[0m\u001b[1;33m,\u001b[0m\u001b[1;33m\n",
       "\u001b[0m    \u001b[0mcolumns\u001b[0m\u001b[1;33m,\u001b[0m\u001b[1;33m\n",
       "\u001b[0m    \u001b[0mvalues\u001b[0m\u001b[1;33m=\u001b[0m\u001b[1;32mNone\u001b[0m\u001b[1;33m,\u001b[0m\u001b[1;33m\n",
       "\u001b[0m    \u001b[0mrownames\u001b[0m\u001b[1;33m=\u001b[0m\u001b[1;32mNone\u001b[0m\u001b[1;33m,\u001b[0m\u001b[1;33m\n",
       "\u001b[0m    \u001b[0mcolnames\u001b[0m\u001b[1;33m=\u001b[0m\u001b[1;32mNone\u001b[0m\u001b[1;33m,\u001b[0m\u001b[1;33m\n",
       "\u001b[0m    \u001b[0maggfunc\u001b[0m\u001b[1;33m=\u001b[0m\u001b[1;32mNone\u001b[0m\u001b[1;33m,\u001b[0m\u001b[1;33m\n",
       "\u001b[0m    \u001b[0mmargins\u001b[0m\u001b[1;33m:\u001b[0m \u001b[1;34m'bool'\u001b[0m \u001b[1;33m=\u001b[0m \u001b[1;32mFalse\u001b[0m\u001b[1;33m,\u001b[0m\u001b[1;33m\n",
       "\u001b[0m    \u001b[0mmargins_name\u001b[0m\u001b[1;33m:\u001b[0m \u001b[1;34m'Hashable'\u001b[0m \u001b[1;33m=\u001b[0m \u001b[1;34m'All'\u001b[0m\u001b[1;33m,\u001b[0m\u001b[1;33m\n",
       "\u001b[0m    \u001b[0mdropna\u001b[0m\u001b[1;33m:\u001b[0m \u001b[1;34m'bool'\u001b[0m \u001b[1;33m=\u001b[0m \u001b[1;32mTrue\u001b[0m\u001b[1;33m,\u001b[0m\u001b[1;33m\n",
       "\u001b[0m    \u001b[0mnormalize\u001b[0m\u001b[1;33m:\u001b[0m \u001b[1;34m'bool'\u001b[0m \u001b[1;33m=\u001b[0m \u001b[1;32mFalse\u001b[0m\u001b[1;33m,\u001b[0m\u001b[1;33m\n",
       "\u001b[0m\u001b[1;33m)\u001b[0m \u001b[1;33m->\u001b[0m \u001b[1;34m'DataFrame'\u001b[0m\u001b[1;33m\u001b[0m\u001b[1;33m\u001b[0m\u001b[0m\n",
       "\u001b[1;31mDocstring:\u001b[0m\n",
       "Compute a simple cross tabulation of two (or more) factors.\n",
       "\n",
       "By default, computes a frequency table of the factors unless an\n",
       "array of values and an aggregation function are passed.\n",
       "\n",
       "Parameters\n",
       "----------\n",
       "index : array-like, Series, or list of arrays/Series\n",
       "    Values to group by in the rows.\n",
       "columns : array-like, Series, or list of arrays/Series\n",
       "    Values to group by in the columns.\n",
       "values : array-like, optional\n",
       "    Array of values to aggregate according to the factors.\n",
       "    Requires `aggfunc` be specified.\n",
       "rownames : sequence, default None\n",
       "    If passed, must match number of row arrays passed.\n",
       "colnames : sequence, default None\n",
       "    If passed, must match number of column arrays passed.\n",
       "aggfunc : function, optional\n",
       "    If specified, requires `values` be specified as well.\n",
       "margins : bool, default False\n",
       "    Add row/column margins (subtotals).\n",
       "margins_name : str, default 'All'\n",
       "    Name of the row/column that will contain the totals\n",
       "    when margins is True.\n",
       "dropna : bool, default True\n",
       "    Do not include columns whose entries are all NaN.\n",
       "normalize : bool, {'all', 'index', 'columns'}, or {0,1}, default False\n",
       "    Normalize by dividing all values by the sum of values.\n",
       "\n",
       "    - If passed 'all' or `True`, will normalize over all values.\n",
       "    - If passed 'index' will normalize over each row.\n",
       "    - If passed 'columns' will normalize over each column.\n",
       "    - If margins is `True`, will also normalize margin values.\n",
       "\n",
       "Returns\n",
       "-------\n",
       "DataFrame\n",
       "    Cross tabulation of the data.\n",
       "\n",
       "See Also\n",
       "--------\n",
       "DataFrame.pivot : Reshape data based on column values.\n",
       "pivot_table : Create a pivot table as a DataFrame.\n",
       "\n",
       "Notes\n",
       "-----\n",
       "Any Series passed will have their name attributes used unless row or column\n",
       "names for the cross-tabulation are specified.\n",
       "\n",
       "Any input passed containing Categorical data will have **all** of its\n",
       "categories included in the cross-tabulation, even if the actual data does\n",
       "not contain any instances of a particular category.\n",
       "\n",
       "In the event that there aren't overlapping indexes an empty DataFrame will\n",
       "be returned.\n",
       "\n",
       "Reference :ref:`the user guide <reshaping.crosstabulations>` for more examples.\n",
       "\n",
       "Examples\n",
       "--------\n",
       ">>> a = np.array([\"foo\", \"foo\", \"foo\", \"foo\", \"bar\", \"bar\",\n",
       "...               \"bar\", \"bar\", \"foo\", \"foo\", \"foo\"], dtype=object)\n",
       ">>> b = np.array([\"one\", \"one\", \"one\", \"two\", \"one\", \"one\",\n",
       "...               \"one\", \"two\", \"two\", \"two\", \"one\"], dtype=object)\n",
       ">>> c = np.array([\"dull\", \"dull\", \"shiny\", \"dull\", \"dull\", \"shiny\",\n",
       "...               \"shiny\", \"dull\", \"shiny\", \"shiny\", \"shiny\"],\n",
       "...              dtype=object)\n",
       ">>> pd.crosstab(a, [b, c], rownames=['a'], colnames=['b', 'c'])\n",
       "b   one        two\n",
       "c   dull shiny dull shiny\n",
       "a\n",
       "bar    1     2    1     0\n",
       "foo    2     2    1     2\n",
       "\n",
       "Here 'c' and 'f' are not represented in the data and will not be\n",
       "shown in the output because dropna is True by default. Set\n",
       "dropna=False to preserve categories with no data.\n",
       "\n",
       ">>> foo = pd.Categorical(['a', 'b'], categories=['a', 'b', 'c'])\n",
       ">>> bar = pd.Categorical(['d', 'e'], categories=['d', 'e', 'f'])\n",
       ">>> pd.crosstab(foo, bar)\n",
       "col_0  d  e\n",
       "row_0\n",
       "a      1  0\n",
       "b      0  1\n",
       ">>> pd.crosstab(foo, bar, dropna=False)\n",
       "col_0  d  e  f\n",
       "row_0\n",
       "a      1  0  0\n",
       "b      0  1  0\n",
       "c      0  0  0\n",
       "\u001b[1;31mFile:\u001b[0m      c:\\users\\hp\\documents\\anaconda 4\\lib\\site-packages\\pandas\\core\\reshape\\pivot.py\n",
       "\u001b[1;31mType:\u001b[0m      function"
      ]
     },
     "metadata": {},
     "output_type": "display_data"
    }
   ],
   "source": [
    "?pd.crosstab"
   ]
  },
  {
   "cell_type": "code",
   "execution_count": 59,
   "id": "a49603a4-a123-4696-b178-b50735d5e956",
   "metadata": {},
   "outputs": [
    {
     "data": {
      "image/png": "[encoded data removed]",
      "text/plain": [
       "<Figure size 640x480 with 1 Axes>"
      ]
     },
     "metadata": {},
     "output_type": "display_data"
    }
   ],
   "source": [
    "# determine how many ad converted and how many psa converted using crosstab funnction\n",
    "conversion = pd.crosstab(df['test group'], df['converted'], normalize = 'index')\n",
    "conversion.plot.bar()\n",
    "plt.title('Visualize Conversion Rate')\n",
    "plt.show()"
   ]
  },
  {
   "cell_type": "code",
   "execution_count": 61,
   "id": "9a1ac591-c2ef-4cc9-ba5f-5d57bcd77f2b",
   "metadata": {},
   "outputs": [
    {
     "data": {
      "text/html": [
       "<div>\n",
       "<style scoped>\n",
       "    .dataframe tbody tr th:only-of-type {\n",
       "        vertical-align: middle;\n",
       "    }\n",
       "\n",
       "    .dataframe tbody tr th {\n",
       "        vertical-align: top;\n",
       "    }\n",
       "\n",
       "    .dataframe thead th {\n",
       "        text-align: right;\n",
       "    }\n",
       "</style>\n",
       "<table border=\"1\" class=\"dataframe\">\n",
       "  <thead>\n",
       "    <tr style=\"text-align: right;\">\n",
       "      <th>converted</th>\n",
       "      <th>False</th>\n",
       "      <th>True</th>\n",
       "    </tr>\n",
       "    <tr>\n",
       "      <th>most ads day</th>\n",
       "      <th></th>\n",
       "      <th></th>\n",
       "    </tr>\n",
       "  </thead>\n",
       "  <tbody>\n",
       "    <tr>\n",
       "      <th>Monday</th>\n",
       "      <td>0.967188</td>\n",
       "      <td>0.032812</td>\n",
       "    </tr>\n",
       "    <tr>\n",
       "      <th>Tuesday</th>\n",
       "      <td>0.970160</td>\n",
       "      <td>0.029840</td>\n",
       "    </tr>\n",
       "    <tr>\n",
       "      <th>Wednesday</th>\n",
       "      <td>0.975058</td>\n",
       "      <td>0.024942</td>\n",
       "    </tr>\n",
       "    <tr>\n",
       "      <th>Sunday</th>\n",
       "      <td>0.975524</td>\n",
       "      <td>0.024476</td>\n",
       "    </tr>\n",
       "    <tr>\n",
       "      <th>Friday</th>\n",
       "      <td>0.977788</td>\n",
       "      <td>0.022212</td>\n",
       "    </tr>\n",
       "    <tr>\n",
       "      <th>Thursday</th>\n",
       "      <td>0.978429</td>\n",
       "      <td>0.021571</td>\n",
       "    </tr>\n",
       "    <tr>\n",
       "      <th>Saturday</th>\n",
       "      <td>0.978949</td>\n",
       "      <td>0.021051</td>\n",
       "    </tr>\n",
       "  </tbody>\n",
       "</table>\n",
       "</div>"
      ],
      "text/plain": [
       "converted        False     True \n",
       "most ads day                    \n",
       "Monday        0.967188  0.032812\n",
       "Tuesday       0.970160  0.029840\n",
       "Wednesday     0.975058  0.024942\n",
       "Sunday        0.975524  0.024476\n",
       "Friday        0.977788  0.022212\n",
       "Thursday      0.978429  0.021571\n",
       "Saturday      0.978949  0.021051"
      ]
     },
     "execution_count": 61,
     "metadata": {},
     "output_type": "execute_result"
    }
   ],
   "source": [
    "conversion_day = pd.crosstab(df['most ads day'], df['converted'], normalize = 'index')\n",
    "conversion_day.sort_values(by = True, ascending = False)"
   ]
  },
  {
   "cell_type": "markdown",
   "id": "21aa62d6-2de2-4130-b369-b422cae58c0b",
   "metadata": {},
   "source": [
    "This shows that Monday have the highest conversion rate"
   ]
  },
  {
   "cell_type": "code",
   "execution_count": 62,
   "id": "e34e88ff-c7d8-427f-92de-2e5a2e3934dc",
   "metadata": {},
   "outputs": [
    {
     "data": {
      "text/html": [
       "<div>\n",
       "<style scoped>\n",
       "    .dataframe tbody tr th:only-of-type {\n",
       "        vertical-align: middle;\n",
       "    }\n",
       "\n",
       "    .dataframe tbody tr th {\n",
       "        vertical-align: top;\n",
       "    }\n",
       "\n",
       "    .dataframe thead th {\n",
       "        text-align: right;\n",
       "    }\n",
       "</style>\n",
       "<table border=\"1\" class=\"dataframe\">\n",
       "  <thead>\n",
       "    <tr style=\"text-align: right;\">\n",
       "      <th>converted</th>\n",
       "      <th>False</th>\n",
       "      <th>True</th>\n",
       "    </tr>\n",
       "    <tr>\n",
       "      <th>most ads hour</th>\n",
       "      <th></th>\n",
       "      <th></th>\n",
       "    </tr>\n",
       "  </thead>\n",
       "  <tbody>\n",
       "    <tr>\n",
       "      <th>16</th>\n",
       "      <td>0.969228</td>\n",
       "      <td>0.030772</td>\n",
       "    </tr>\n",
       "    <tr>\n",
       "      <th>20</th>\n",
       "      <td>0.970197</td>\n",
       "      <td>0.029803</td>\n",
       "    </tr>\n",
       "    <tr>\n",
       "      <th>15</th>\n",
       "      <td>0.970347</td>\n",
       "      <td>0.029653</td>\n",
       "    </tr>\n",
       "    <tr>\n",
       "      <th>21</th>\n",
       "      <td>0.971077</td>\n",
       "      <td>0.028923</td>\n",
       "    </tr>\n",
       "    <tr>\n",
       "      <th>17</th>\n",
       "      <td>0.971790</td>\n",
       "      <td>0.028210</td>\n",
       "    </tr>\n",
       "    <tr>\n",
       "      <th>14</th>\n",
       "      <td>0.971937</td>\n",
       "      <td>0.028063</td>\n",
       "    </tr>\n",
       "    <tr>\n",
       "      <th>18</th>\n",
       "      <td>0.972620</td>\n",
       "      <td>0.027380</td>\n",
       "    </tr>\n",
       "    <tr>\n",
       "      <th>19</th>\n",
       "      <td>0.973280</td>\n",
       "      <td>0.026720</td>\n",
       "    </tr>\n",
       "    <tr>\n",
       "      <th>22</th>\n",
       "      <td>0.973895</td>\n",
       "      <td>0.026105</td>\n",
       "    </tr>\n",
       "    <tr>\n",
       "      <th>13</th>\n",
       "      <td>0.975323</td>\n",
       "      <td>0.024677</td>\n",
       "    </tr>\n",
       "    <tr>\n",
       "      <th>12</th>\n",
       "      <td>0.976172</td>\n",
       "      <td>0.023828</td>\n",
       "    </tr>\n",
       "    <tr>\n",
       "      <th>23</th>\n",
       "      <td>0.977338</td>\n",
       "      <td>0.022662</td>\n",
       "    </tr>\n",
       "    <tr>\n",
       "      <th>6</th>\n",
       "      <td>0.977756</td>\n",
       "      <td>0.022244</td>\n",
       "    </tr>\n",
       "    <tr>\n",
       "      <th>11</th>\n",
       "      <td>0.977884</td>\n",
       "      <td>0.022116</td>\n",
       "    </tr>\n",
       "    <tr>\n",
       "      <th>10</th>\n",
       "      <td>0.978479</td>\n",
       "      <td>0.021521</td>\n",
       "    </tr>\n",
       "    <tr>\n",
       "      <th>5</th>\n",
       "      <td>0.979085</td>\n",
       "      <td>0.020915</td>\n",
       "    </tr>\n",
       "    <tr>\n",
       "      <th>8</th>\n",
       "      <td>0.980484</td>\n",
       "      <td>0.019516</td>\n",
       "    </tr>\n",
       "    <tr>\n",
       "      <th>9</th>\n",
       "      <td>0.980809</td>\n",
       "      <td>0.019191</td>\n",
       "    </tr>\n",
       "    <tr>\n",
       "      <th>0</th>\n",
       "      <td>0.981575</td>\n",
       "      <td>0.018425</td>\n",
       "    </tr>\n",
       "    <tr>\n",
       "      <th>7</th>\n",
       "      <td>0.981889</td>\n",
       "      <td>0.018111</td>\n",
       "    </tr>\n",
       "    <tr>\n",
       "      <th>4</th>\n",
       "      <td>0.984765</td>\n",
       "      <td>0.015235</td>\n",
       "    </tr>\n",
       "    <tr>\n",
       "      <th>1</th>\n",
       "      <td>0.987089</td>\n",
       "      <td>0.012911</td>\n",
       "    </tr>\n",
       "    <tr>\n",
       "      <th>3</th>\n",
       "      <td>0.989548</td>\n",
       "      <td>0.010452</td>\n",
       "    </tr>\n",
       "    <tr>\n",
       "      <th>2</th>\n",
       "      <td>0.992687</td>\n",
       "      <td>0.007313</td>\n",
       "    </tr>\n",
       "  </tbody>\n",
       "</table>\n",
       "</div>"
      ],
      "text/plain": [
       "converted         False     True \n",
       "most ads hour                    \n",
       "16             0.969228  0.030772\n",
       "20             0.970197  0.029803\n",
       "15             0.970347  0.029653\n",
       "21             0.971077  0.028923\n",
       "17             0.971790  0.028210\n",
       "14             0.971937  0.028063\n",
       "18             0.972620  0.027380\n",
       "19             0.973280  0.026720\n",
       "22             0.973895  0.026105\n",
       "13             0.975323  0.024677\n",
       "12             0.976172  0.023828\n",
       "23             0.977338  0.022662\n",
       "6              0.977756  0.022244\n",
       "11             0.977884  0.022116\n",
       "10             0.978479  0.021521\n",
       "5              0.979085  0.020915\n",
       "8              0.980484  0.019516\n",
       "9              0.980809  0.019191\n",
       "0              0.981575  0.018425\n",
       "7              0.981889  0.018111\n",
       "4              0.984765  0.015235\n",
       "1              0.987089  0.012911\n",
       "3              0.989548  0.010452\n",
       "2              0.992687  0.007313"
      ]
     },
     "execution_count": 62,
     "metadata": {},
     "output_type": "execute_result"
    }
   ],
   "source": [
    "conversion_day = pd.crosstab(df['most ads hour'], df['converted'], normalize = 'index')\n",
    "conversion_day.sort_values(by = True, ascending = False)"
   ]
  },
  {
   "cell_type": "markdown",
   "id": "ed9f5f71-8b15-4dfb-936d-cca5e0d827b7",
   "metadata": {},
   "source": [
    "Maximum conversion rate occured mostly at 4pm (more likely to buy)"
   ]
  },
  {
   "cell_type": "markdown",
   "id": "1fc3a74a-cb2f-4c22-9549-3aeb041dd02c",
   "metadata": {},
   "source": [
    "#### Performing a chi square to determine dependency between different categorical variable and the target variable (Converted)"
   ]
  },
  {
   "cell_type": "code",
   "execution_count": 64,
   "id": "bed1b17b-1a54-49d1-9841-71a5413457d5",
   "metadata": {},
   "outputs": [],
   "source": [
    "from scipy.stats import chi2_contingency"
   ]
  },
  {
   "cell_type": "code",
   "execution_count": 67,
   "id": "1ec38787-5545-48f3-a9fd-ce93051ae6ac",
   "metadata": {},
   "outputs": [
    {
     "name": "stdout",
     "output_type": "stream",
     "text": [
      "test group\n",
      "54.005823883685245\n",
      "1.9989623063390075e-13\n",
      "Conversion rate in test group is statistically significant\n",
      "\n",
      "most ads day\n",
      "410.0478857936585\n",
      "1.932184379244731e-85\n",
      "Conversion rate in most ads day is statistically significant\n",
      "\n",
      "most ads hour\n",
      "430.76869230822086\n",
      "8.027629823696771e-77\n",
      "Conversion rate in most ads hour is statistically significant\n",
      "\n"
     ]
    }
   ],
   "source": [
    "# Check for relationship between variables and converted\n",
    "# Null hypothesis: There is no difference in conversion rate between variables and converion \n",
    "alpha = 0.05 # level of siginifance\n",
    "for variable in df_cate.columns:\n",
    "    if variable != 'converted':\n",
    "        conti_table = pd.crosstab(df_cate[variable], df_cate['converted'])\n",
    "        chi2, p, _,_ = chi2_contingency(conti_table)\n",
    "        print(variable)\n",
    "        print(chi2)\n",
    "        print(p)\n",
    "        if p < alpha:\n",
    "            print(f'Conversion rate in {variable} is statistically significant\\n')\n",
    "        else:\n",
    "            print(f'There is no significant difference in conversion rate across {variable}')"
   ]
  },
  {
   "cell_type": "markdown",
   "id": "12b4df1f-2ac5-4920-87dd-19bc9c6f1fe9",
   "metadata": {},
   "source": [
    "This tells us that there is a difference in conversion rate between people shown the ad and people who didn't see the ad "
   ]
  },
  {
   "cell_type": "code",
   "execution_count": 68,
   "id": "24c73025-6fd9-4c7c-b7a0-0b21582d44ae",
   "metadata": {},
   "outputs": [],
   "source": [
    "# check for normality using Shapiro test\n",
    "# levene test whether variance in different groups are equal \n",
    "from scipy.stats import shapiro, levene, ttest_ind, mannwhitneyu "
   ]
  },
  {
   "cell_type": "code",
   "execution_count": 70,
   "id": "152646bd-a745-4026-9a54-d3b2e5934716",
   "metadata": {},
   "outputs": [],
   "source": [
    "# check normality of total ads for where converted is true and false\n",
    "sst, sspt = shapiro(df[df['converted'] == True]['total ads'])\n",
    "ssf, sspf = shapiro(df[df['converted'] == False]['total ads'])"
   ]
  },
  {
   "cell_type": "code",
   "execution_count": 72,
   "id": "6f262561-2963-4915-ad1a-cb62100aafc1",
   "metadata": {},
   "outputs": [
    {
     "name": "stdout",
     "output_type": "stream",
     "text": [
      "0.0 , 0.0\n"
     ]
    }
   ],
   "source": [
    "print(f\"{sspt} , {sspf}\")"
   ]
  },
  {
   "cell_type": "code",
   "execution_count": 73,
   "id": "92dfa416-2307-4324-a7ef-20b67c855e6b",
   "metadata": {},
   "outputs": [
    {
     "data": {
      "text/plain": [
       "converted\n",
       "False    23.291495\n",
       "True     83.887759\n",
       "Name: total ads, dtype: float64"
      ]
     },
     "execution_count": 73,
     "metadata": {},
     "output_type": "execute_result"
    }
   ],
   "source": [
    "df.groupby('converted')['total ads'].mean()"
   ]
  },
  {
   "cell_type": "code",
   "execution_count": 77,
   "id": "7c10e342-caa6-45b1-8b88-218efe1c3cb5",
   "metadata": {},
   "outputs": [
    {
     "name": "stdout",
     "output_type": "stream",
     "text": [
      "u_pvalue = 0.0\n"
     ]
    }
   ],
   "source": [
    "# if sspt and sspf > 0.05 then Normality assumption was met: Normally dstributed then perform 2 sample ttest\n",
    "alpha = 0.05\n",
    "if sspt > alpha and sspf > alpha:\n",
    "    t_stat, t_pvalue = ttest_ind(df[df['converted']]['total ads'], df[~df['converetd']]['total ads'])\n",
    "    print(f\"u_pvalue = {t_pvalue}\")\n",
    "else:\n",
    "    u_stat, u_pvalue = mannwhitneyu(df[df['converted']]['total ads'], df[~df['converted']]['total ads'])\n",
    "    print(f\"u_pvalue = {u_pvalue}\")"
   ]
  },
  {
   "cell_type": "code",
   "execution_count": null,
   "id": "46543fc5-4deb-41f4-b277-5a45849dfccc",
   "metadata": {},
   "outputs": [],
   "source": []
  }
 ],
 "metadata": {
  "kernelspec": {
   "display_name": "Python 3 (ipykernel)",
   "language": "python",
   "name": "python3"
  },
  "language_info": {
   "codemirror_mode": {
    "name": "ipython",
    "version": 3
   },
   "file_extension": ".py",
   "mimetype": "text/x-python",
   "name": "python",
   "nbconvert_exporter": "python",
   "pygments_lexer": "ipython3",
   "version": "3.11.7"
  }
 },
 "nbformat": 4,
 "nbformat_minor": 5
}
